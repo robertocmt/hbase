{
 "cells": [
  {
   "cell_type": "code",
   "execution_count": 86,
   "metadata": {},
   "outputs": [],
   "source": [
    "import happybase\n",
    "from pyspark.sql import SQLContext\n",
    "import matplotlib.pyplot as plt"
   ]
  },
  {
   "cell_type": "code",
   "execution_count": 54,
   "metadata": {},
   "outputs": [],
   "source": [
    "connection = happybase.Connection('10.10.2.78')\n",
    "sqlContext = SQLContext(sc)\n",
    "table = connection.table('datos_EEUU')\n",
    "datos = []\n",
    "for key, data in table.scan():\n",
    "    Nombre = data[b'Nombre:'].decode('utf-8')\n",
    "    Apellido = data[b'Apellido:'].decode('utf-8')\n",
    "    Renta = data[b'Renta:'].decode('utf-8')\n",
    "    Edad = data[b'Edad:'].decode('utf-8')\n",
    "    Estado_laboral = data[b'Estado_Laboral:'].decode('utf-8')\n",
    "    datos.append([Nombre, Apellido, Renta, Edad, Estado_laboral])"
   ]
  },
  {
   "cell_type": "code",
   "execution_count": 87,
   "metadata": {},
   "outputs": [],
   "source": [
    "df = sqlContext.createDataFrame(datos, ['Nombre', 'Apellido', 'Renta', 'Edad', 'Estado_laboral'])\n",
    "edades = df.groupBy('Edad').count()"
   ]
  },
  {
   "cell_type": "code",
   "execution_count": 88,
   "metadata": {},
   "outputs": [
    {
     "data": {
      "text/plain": [
       "<matplotlib.axes._subplots.AxesSubplot at 0x7f102f424f60>"
      ]
     },
     "execution_count": 88,
     "metadata": {},
     "output_type": "execute_result"
    },
    {
     "data": {
      "image/png": "[encoded data removed]",
      "text/plain": [
       "<Figure size 432x288 with 1 Axes>"
      ]
     },
     "metadata": {
      "needs_background": "light"
     },
     "output_type": "display_data"
    }
   ],
   "source": [
    "edades.toPandas().plot(kind='bar', x='Edad', y='count', colormap='winter_r')"
   ]
  },
  {
   "cell_type": "code",
   "execution_count": 94,
   "metadata": {},
   "outputs": [
    {
     "name": "stdout",
     "output_type": "stream",
     "text": [
      "+--------------------------+\n",
      "|avg(CAST(Renta AS DOUBLE))|\n",
      "+--------------------------+\n",
      "|         2387.822214781954|\n",
      "+--------------------------+\n",
      "\n"
     ]
    }
   ],
   "source": [
    "df.createOrReplaceTempView('EEUU')\n",
    "spark.sql('SELECT AVG(Renta) FROM EEUU').show()"
   ]
  }
 ],
 "metadata": {
  "kernelspec": {
   "display_name": "Python 3",
   "language": "python",
   "name": "python3"
  },
  "language_info": {
   "codemirror_mode": {
    "name": "ipython",
    "version": 3
   },
   "file_extension": ".py",
   "mimetype": "text/x-python",
   "name": "python",
   "nbconvert_exporter": "python",
   "pygments_lexer": "ipython3",
   "version": "3.7.0"
  }
 },
 "nbformat": 4,
 "nbformat_minor": 2
}
